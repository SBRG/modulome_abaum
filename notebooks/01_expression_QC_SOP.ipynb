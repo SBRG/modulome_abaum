{
 "cells": [
  {
   "cell_type": "code",
   "execution_count": 1,
   "id": "sized-indonesian",
   "metadata": {},
   "outputs": [],
   "source": [
    "import pandas as pd\n",
    "import os\n",
    "from os import path\n",
    "import matplotlib.pyplot as plt\n",
    "import seaborn as sns\n",
    "import numpy as np"
   ]
  },
  {
   "cell_type": "code",
   "execution_count": 2,
   "id": "mature-interstate",
   "metadata": {},
   "outputs": [],
   "source": [
    "sns.set_style('ticks')"
   ]
  },
  {
   "cell_type": "markdown",
   "id": "prostate-schedule",
   "metadata": {},
   "source": [
    "# Setup"
   ]
  },
  {
   "cell_type": "markdown",
   "id": "hungry-yesterday",
   "metadata": {},
   "source": [
    "## QC Thresholds "
   ]
  },
  {
   "cell_type": "code",
   "execution_count": 3,
   "id": "closed-simulation",
   "metadata": {},
   "outputs": [],
   "source": [
    "min_mrna_reads = 5e5 # Minimum number of reads mapped to mRNA"
   ]
  },
  {
   "cell_type": "markdown",
   "id": "spectacular-literacy",
   "metadata": {},
   "source": [
    "## Inputs "
   ]
  },
  {
   "cell_type": "markdown",
   "id": "acknowledged-leadership",
   "metadata": {},
   "source": [
    "Show files in the data directory"
   ]
  },
  {
   "cell_type": "code",
   "execution_count": 4,
   "id": "prostate-cherry",
   "metadata": {
    "scrolled": true
   },
   "outputs": [
    {
     "data": {
      "text/plain": [
       "['multiqc_report.html',\n",
       " 'multiqc_stats_4.0.csv',\n",
       " '.DS_Store',\n",
       " 'metadata_083021.csv',\n",
       " 'log_tpm_4.0.csv',\n",
       " 'log_tpm_083021.csv',\n",
       " 'multiqc_stats.tsv',\n",
       " '8.30.21_ABNovaSeqSamples.xlsx',\n",
       " 'counts_083021.csv',\n",
       " 'metadata_curated_4.0.csv']"
      ]
     },
     "execution_count": 4,
     "metadata": {},
     "output_type": "execute_result"
    }
   ],
   "source": [
    "data_dir = os.path.join('../data/raw_data')\n",
    "os.listdir(data_dir)"
   ]
  },
  {
   "cell_type": "markdown",
   "id": "humanitarian-range",
   "metadata": {},
   "source": [
    "Enter name of curated metadata file here"
   ]
  },
  {
   "cell_type": "code",
   "execution_count": 5,
   "id": "forward-store",
   "metadata": {},
   "outputs": [],
   "source": [
    "metadata_file = \"metadata_curated.csv\""
   ]
  },
  {
   "cell_type": "markdown",
   "id": "every-presence",
   "metadata": {},
   "source": [
    "## Load expression data"
   ]
  },
  {
   "cell_type": "code",
   "execution_count": 6,
   "id": "pleasant-effort",
   "metadata": {},
   "outputs": [
    {
     "name": "stdout",
     "output_type": "stream",
     "text": [
      "Number of genes: 3895\n",
      "Number of samples: 162\n"
     ]
    }
   ],
   "source": [
    "DF_log_tpm = pd.read_csv(path.join(data_dir,'log_tpm.csv'),index_col=0).fillna(0)\n",
    "print('Number of genes:',DF_log_tpm.shape[0])\n",
    "print('Number of samples:',DF_log_tpm.shape[1])"
   ]
  },
  {
   "cell_type": "code",
   "execution_count": 7,
   "id": "processed-diploma",
   "metadata": {},
   "outputs": [
    {
     "data": {
      "text/html": [
       "<div>\n",
       "<style scoped>\n",
       "    .dataframe tbody tr th:only-of-type {\n",
       "        vertical-align: middle;\n",
       "    }\n",
       "\n",
       "    .dataframe tbody tr th {\n",
       "        vertical-align: top;\n",
       "    }\n",
       "\n",
       "    .dataframe thead th {\n",
       "        text-align: right;\n",
       "    }\n",
       "</style>\n",
       "<table border=\"1\" class=\"dataframe\">\n",
       "  <thead>\n",
       "    <tr style=\"text-align: right;\">\n",
       "      <th></th>\n",
       "      <th>Abaum_0001</th>\n",
       "      <th>Abaum_0002</th>\n",
       "      <th>Abaum_0003</th>\n",
       "      <th>Abaum_0004</th>\n",
       "      <th>Abaum_0005</th>\n",
       "      <th>Abaum_0006</th>\n",
       "      <th>Abaum_0007</th>\n",
       "      <th>Abaum_0008</th>\n",
       "      <th>Abaum_0009</th>\n",
       "      <th>Abaum_0010</th>\n",
       "      <th>...</th>\n",
       "      <th>ABNM039</th>\n",
       "      <th>ABNM040</th>\n",
       "      <th>ABNM041</th>\n",
       "      <th>ABNM042</th>\n",
       "      <th>ABNM043</th>\n",
       "      <th>ABNM044</th>\n",
       "      <th>ABNM045</th>\n",
       "      <th>ABNM046</th>\n",
       "      <th>ABNM047</th>\n",
       "      <th>ABNM048</th>\n",
       "    </tr>\n",
       "    <tr>\n",
       "      <th>Geneid</th>\n",
       "      <th></th>\n",
       "      <th></th>\n",
       "      <th></th>\n",
       "      <th></th>\n",
       "      <th></th>\n",
       "      <th></th>\n",
       "      <th></th>\n",
       "      <th></th>\n",
       "      <th></th>\n",
       "      <th></th>\n",
       "      <th></th>\n",
       "      <th></th>\n",
       "      <th></th>\n",
       "      <th></th>\n",
       "      <th></th>\n",
       "      <th></th>\n",
       "      <th></th>\n",
       "      <th></th>\n",
       "      <th></th>\n",
       "      <th></th>\n",
       "      <th></th>\n",
       "    </tr>\n",
       "  </thead>\n",
       "  <tbody>\n",
       "    <tr>\n",
       "      <th>ABUW_6001</th>\n",
       "      <td>6.162303</td>\n",
       "      <td>6.057743</td>\n",
       "      <td>6.193528</td>\n",
       "      <td>6.024322</td>\n",
       "      <td>5.797486</td>\n",
       "      <td>6.854015</td>\n",
       "      <td>6.651171</td>\n",
       "      <td>6.358583</td>\n",
       "      <td>6.520595</td>\n",
       "      <td>6.593531</td>\n",
       "      <td>...</td>\n",
       "      <td>7.050323</td>\n",
       "      <td>7.280878</td>\n",
       "      <td>6.458105</td>\n",
       "      <td>5.963387</td>\n",
       "      <td>6.173665</td>\n",
       "      <td>6.579756</td>\n",
       "      <td>6.184229</td>\n",
       "      <td>6.448737</td>\n",
       "      <td>7.681953</td>\n",
       "      <td>7.634922</td>\n",
       "    </tr>\n",
       "    <tr>\n",
       "      <th>ABUW_6002</th>\n",
       "      <td>7.077112</td>\n",
       "      <td>7.042338</td>\n",
       "      <td>7.911574</td>\n",
       "      <td>7.229813</td>\n",
       "      <td>7.301443</td>\n",
       "      <td>7.133781</td>\n",
       "      <td>6.642640</td>\n",
       "      <td>7.391063</td>\n",
       "      <td>8.003876</td>\n",
       "      <td>7.839017</td>\n",
       "      <td>...</td>\n",
       "      <td>7.485842</td>\n",
       "      <td>8.642665</td>\n",
       "      <td>8.073417</td>\n",
       "      <td>7.508498</td>\n",
       "      <td>7.797045</td>\n",
       "      <td>7.845798</td>\n",
       "      <td>7.593737</td>\n",
       "      <td>7.653610</td>\n",
       "      <td>9.496484</td>\n",
       "      <td>9.536581</td>\n",
       "    </tr>\n",
       "    <tr>\n",
       "      <th>ABUW_6003</th>\n",
       "      <td>7.628470</td>\n",
       "      <td>8.627994</td>\n",
       "      <td>8.970377</td>\n",
       "      <td>8.356422</td>\n",
       "      <td>7.983963</td>\n",
       "      <td>9.083200</td>\n",
       "      <td>8.724565</td>\n",
       "      <td>8.839581</td>\n",
       "      <td>8.973797</td>\n",
       "      <td>9.548375</td>\n",
       "      <td>...</td>\n",
       "      <td>8.810006</td>\n",
       "      <td>9.224818</td>\n",
       "      <td>8.863645</td>\n",
       "      <td>8.614798</td>\n",
       "      <td>9.351677</td>\n",
       "      <td>9.533243</td>\n",
       "      <td>8.799210</td>\n",
       "      <td>9.244271</td>\n",
       "      <td>10.697152</td>\n",
       "      <td>10.696880</td>\n",
       "    </tr>\n",
       "    <tr>\n",
       "      <th>ABUW_5001</th>\n",
       "      <td>7.533777</td>\n",
       "      <td>7.713697</td>\n",
       "      <td>7.991543</td>\n",
       "      <td>8.270640</td>\n",
       "      <td>8.860830</td>\n",
       "      <td>8.552435</td>\n",
       "      <td>8.084747</td>\n",
       "      <td>7.642735</td>\n",
       "      <td>7.823923</td>\n",
       "      <td>7.798745</td>\n",
       "      <td>...</td>\n",
       "      <td>7.966934</td>\n",
       "      <td>8.302388</td>\n",
       "      <td>8.018505</td>\n",
       "      <td>7.674180</td>\n",
       "      <td>7.525324</td>\n",
       "      <td>7.855252</td>\n",
       "      <td>7.786375</td>\n",
       "      <td>7.701836</td>\n",
       "      <td>9.352922</td>\n",
       "      <td>9.281201</td>\n",
       "    </tr>\n",
       "    <tr>\n",
       "      <th>ABUW_5002</th>\n",
       "      <td>6.744877</td>\n",
       "      <td>6.967491</td>\n",
       "      <td>6.596592</td>\n",
       "      <td>7.103911</td>\n",
       "      <td>7.335995</td>\n",
       "      <td>7.476638</td>\n",
       "      <td>7.367345</td>\n",
       "      <td>6.993174</td>\n",
       "      <td>6.693917</td>\n",
       "      <td>6.813406</td>\n",
       "      <td>...</td>\n",
       "      <td>6.097708</td>\n",
       "      <td>6.474721</td>\n",
       "      <td>5.912874</td>\n",
       "      <td>5.920618</td>\n",
       "      <td>6.221834</td>\n",
       "      <td>6.411846</td>\n",
       "      <td>5.890878</td>\n",
       "      <td>5.932482</td>\n",
       "      <td>6.833930</td>\n",
       "      <td>6.926192</td>\n",
       "    </tr>\n",
       "  </tbody>\n",
       "</table>\n",
       "<p>5 rows × 162 columns</p>\n",
       "</div>"
      ],
      "text/plain": [
       "           Abaum_0001  Abaum_0002  Abaum_0003  Abaum_0004  Abaum_0005  \\\n",
       "Geneid                                                                  \n",
       "ABUW_6001    6.162303    6.057743    6.193528    6.024322    5.797486   \n",
       "ABUW_6002    7.077112    7.042338    7.911574    7.229813    7.301443   \n",
       "ABUW_6003    7.628470    8.627994    8.970377    8.356422    7.983963   \n",
       "ABUW_5001    7.533777    7.713697    7.991543    8.270640    8.860830   \n",
       "ABUW_5002    6.744877    6.967491    6.596592    7.103911    7.335995   \n",
       "\n",
       "           Abaum_0006  Abaum_0007  Abaum_0008  Abaum_0009  Abaum_0010  ...  \\\n",
       "Geneid                                                                 ...   \n",
       "ABUW_6001    6.854015    6.651171    6.358583    6.520595    6.593531  ...   \n",
       "ABUW_6002    7.133781    6.642640    7.391063    8.003876    7.839017  ...   \n",
       "ABUW_6003    9.083200    8.724565    8.839581    8.973797    9.548375  ...   \n",
       "ABUW_5001    8.552435    8.084747    7.642735    7.823923    7.798745  ...   \n",
       "ABUW_5002    7.476638    7.367345    6.993174    6.693917    6.813406  ...   \n",
       "\n",
       "            ABNM039   ABNM040   ABNM041   ABNM042   ABNM043   ABNM044  \\\n",
       "Geneid                                                                  \n",
       "ABUW_6001  7.050323  7.280878  6.458105  5.963387  6.173665  6.579756   \n",
       "ABUW_6002  7.485842  8.642665  8.073417  7.508498  7.797045  7.845798   \n",
       "ABUW_6003  8.810006  9.224818  8.863645  8.614798  9.351677  9.533243   \n",
       "ABUW_5001  7.966934  8.302388  8.018505  7.674180  7.525324  7.855252   \n",
       "ABUW_5002  6.097708  6.474721  5.912874  5.920618  6.221834  6.411846   \n",
       "\n",
       "            ABNM045   ABNM046    ABNM047    ABNM048  \n",
       "Geneid                                               \n",
       "ABUW_6001  6.184229  6.448737   7.681953   7.634922  \n",
       "ABUW_6002  7.593737  7.653610   9.496484   9.536581  \n",
       "ABUW_6003  8.799210  9.244271  10.697152  10.696880  \n",
       "ABUW_5001  7.786375  7.701836   9.352922   9.281201  \n",
       "ABUW_5002  5.890878  5.932482   6.833930   6.926192  \n",
       "\n",
       "[5 rows x 162 columns]"
      ]
     },
     "execution_count": 7,
     "metadata": {},
     "output_type": "execute_result"
    }
   ],
   "source": [
    "DF_log_tpm.head()"
   ]
  },
  {
   "cell_type": "markdown",
   "id": "speaking-placement",
   "metadata": {},
   "source": [
    "## Load QC data"
   ]
  },
  {
   "cell_type": "markdown",
   "id": "shaped-gates",
   "metadata": {},
   "source": [
    "There may be some datasets that failed along the processing pipeline, so the number of samples with QC data may be higher than the number of samples with expression data."
   ]
  },
  {
   "cell_type": "code",
   "execution_count": 8,
   "id": "least-dutch",
   "metadata": {},
   "outputs": [
    {
     "name": "stdout",
     "output_type": "stream",
     "text": [
      "Number of samples with QC data: 164\n",
      "Columns: 54\n"
     ]
    }
   ],
   "source": [
    "DF_qc_stats = pd.read_csv(path.join(data_dir,'multiqc_stats.csv'),index_col=0)\n",
    "print('Number of samples with QC data:',DF_qc_stats.shape[0])\n",
    "print('Columns:',DF_qc_stats.shape[1])"
   ]
  },
  {
   "cell_type": "code",
   "execution_count": 9,
   "id": "collective-plastic",
   "metadata": {},
   "outputs": [
    {
     "data": {
      "text/html": [
       "<div>\n",
       "<style scoped>\n",
       "    .dataframe tbody tr th:only-of-type {\n",
       "        vertical-align: middle;\n",
       "    }\n",
       "\n",
       "    .dataframe tbody tr th {\n",
       "        vertical-align: top;\n",
       "    }\n",
       "\n",
       "    .dataframe thead th {\n",
       "        text-align: right;\n",
       "    }\n",
       "</style>\n",
       "<table border=\"1\" class=\"dataframe\">\n",
       "  <thead>\n",
       "    <tr style=\"text-align: right;\">\n",
       "      <th></th>\n",
       "      <th>Total</th>\n",
       "      <th>Assigned</th>\n",
       "      <th>Unassigned_rRNA</th>\n",
       "      <th>Unassigned_Unmapped</th>\n",
       "      <th>Unassigned_Read_Type</th>\n",
       "      <th>Unassigned_Singleton</th>\n",
       "      <th>Unassigned_MappingQuality</th>\n",
       "      <th>Unassigned_Chimera</th>\n",
       "      <th>Unassigned_FragmentLength</th>\n",
       "      <th>Unassigned_Duplicate</th>\n",
       "      <th>...</th>\n",
       "      <th>r_written</th>\n",
       "      <th>bp_processed</th>\n",
       "      <th>quality_trimmed</th>\n",
       "      <th>bp_written</th>\n",
       "      <th>percent_trimmed</th>\n",
       "      <th>pe_sense</th>\n",
       "      <th>pe_antisense</th>\n",
       "      <th>failed</th>\n",
       "      <th>se_sense</th>\n",
       "      <th>se_antisense</th>\n",
       "    </tr>\n",
       "  </thead>\n",
       "  <tbody>\n",
       "    <tr>\n",
       "      <th>Abaum_0001</th>\n",
       "      <td>6167079.0</td>\n",
       "      <td>4403847.0</td>\n",
       "      <td>330375.0</td>\n",
       "      <td>192365.0</td>\n",
       "      <td>0.0</td>\n",
       "      <td>0.0</td>\n",
       "      <td>0.0</td>\n",
       "      <td>0.0</td>\n",
       "      <td>352417.0</td>\n",
       "      <td>0.0</td>\n",
       "      <td>...</td>\n",
       "      <td>6172690.0</td>\n",
       "      <td>314807190</td>\n",
       "      <td>169667</td>\n",
       "      <td>311892133</td>\n",
       "      <td>0.925982</td>\n",
       "      <td>0.1598</td>\n",
       "      <td>0.8402</td>\n",
       "      <td>0.0</td>\n",
       "      <td>0.0</td>\n",
       "      <td>0.0</td>\n",
       "    </tr>\n",
       "    <tr>\n",
       "      <th>Abaum_0002</th>\n",
       "      <td>5730887.0</td>\n",
       "      <td>3956479.0</td>\n",
       "      <td>332288.0</td>\n",
       "      <td>233606.0</td>\n",
       "      <td>0.0</td>\n",
       "      <td>0.0</td>\n",
       "      <td>0.0</td>\n",
       "      <td>0.0</td>\n",
       "      <td>406844.0</td>\n",
       "      <td>0.0</td>\n",
       "      <td>...</td>\n",
       "      <td>5735887.0</td>\n",
       "      <td>292530237</td>\n",
       "      <td>155954</td>\n",
       "      <td>289832810</td>\n",
       "      <td>0.922102</td>\n",
       "      <td>0.1319</td>\n",
       "      <td>0.8681</td>\n",
       "      <td>0.0</td>\n",
       "      <td>0.0</td>\n",
       "      <td>0.0</td>\n",
       "    </tr>\n",
       "    <tr>\n",
       "      <th>Abaum_0003</th>\n",
       "      <td>6071002.0</td>\n",
       "      <td>4420932.0</td>\n",
       "      <td>45340.0</td>\n",
       "      <td>221182.0</td>\n",
       "      <td>0.0</td>\n",
       "      <td>0.0</td>\n",
       "      <td>0.0</td>\n",
       "      <td>0.0</td>\n",
       "      <td>322476.0</td>\n",
       "      <td>0.0</td>\n",
       "      <td>...</td>\n",
       "      <td>6075776.0</td>\n",
       "      <td>309864576</td>\n",
       "      <td>182657</td>\n",
       "      <td>306949424</td>\n",
       "      <td>0.940783</td>\n",
       "      <td>0.1465</td>\n",
       "      <td>0.8535</td>\n",
       "      <td>0.0</td>\n",
       "      <td>0.0</td>\n",
       "      <td>0.0</td>\n",
       "    </tr>\n",
       "    <tr>\n",
       "      <th>Abaum_0004</th>\n",
       "      <td>5664805.0</td>\n",
       "      <td>4094918.0</td>\n",
       "      <td>116138.0</td>\n",
       "      <td>157106.0</td>\n",
       "      <td>0.0</td>\n",
       "      <td>0.0</td>\n",
       "      <td>0.0</td>\n",
       "      <td>0.0</td>\n",
       "      <td>317658.0</td>\n",
       "      <td>0.0</td>\n",
       "      <td>...</td>\n",
       "      <td>5669326.0</td>\n",
       "      <td>289135626</td>\n",
       "      <td>163691</td>\n",
       "      <td>286404708</td>\n",
       "      <td>0.944511</td>\n",
       "      <td>0.2957</td>\n",
       "      <td>0.7043</td>\n",
       "      <td>0.0</td>\n",
       "      <td>0.0</td>\n",
       "      <td>0.0</td>\n",
       "    </tr>\n",
       "    <tr>\n",
       "      <th>Abaum_0005</th>\n",
       "      <td>5583850.0</td>\n",
       "      <td>4054363.0</td>\n",
       "      <td>11765.0</td>\n",
       "      <td>145353.0</td>\n",
       "      <td>0.0</td>\n",
       "      <td>0.0</td>\n",
       "      <td>0.0</td>\n",
       "      <td>0.0</td>\n",
       "      <td>258047.0</td>\n",
       "      <td>0.0</td>\n",
       "      <td>...</td>\n",
       "      <td>5588013.0</td>\n",
       "      <td>284988663</td>\n",
       "      <td>158880</td>\n",
       "      <td>282292257</td>\n",
       "      <td>0.946145</td>\n",
       "      <td>0.3194</td>\n",
       "      <td>0.6806</td>\n",
       "      <td>0.0</td>\n",
       "      <td>0.0</td>\n",
       "      <td>0.0</td>\n",
       "    </tr>\n",
       "  </tbody>\n",
       "</table>\n",
       "<p>5 rows × 54 columns</p>\n",
       "</div>"
      ],
      "text/plain": [
       "                Total   Assigned  Unassigned_rRNA  Unassigned_Unmapped  \\\n",
       "Abaum_0001  6167079.0  4403847.0         330375.0             192365.0   \n",
       "Abaum_0002  5730887.0  3956479.0         332288.0             233606.0   \n",
       "Abaum_0003  6071002.0  4420932.0          45340.0             221182.0   \n",
       "Abaum_0004  5664805.0  4094918.0         116138.0             157106.0   \n",
       "Abaum_0005  5583850.0  4054363.0          11765.0             145353.0   \n",
       "\n",
       "            Unassigned_Read_Type  Unassigned_Singleton  \\\n",
       "Abaum_0001                   0.0                   0.0   \n",
       "Abaum_0002                   0.0                   0.0   \n",
       "Abaum_0003                   0.0                   0.0   \n",
       "Abaum_0004                   0.0                   0.0   \n",
       "Abaum_0005                   0.0                   0.0   \n",
       "\n",
       "            Unassigned_MappingQuality  Unassigned_Chimera  \\\n",
       "Abaum_0001                        0.0                 0.0   \n",
       "Abaum_0002                        0.0                 0.0   \n",
       "Abaum_0003                        0.0                 0.0   \n",
       "Abaum_0004                        0.0                 0.0   \n",
       "Abaum_0005                        0.0                 0.0   \n",
       "\n",
       "            Unassigned_FragmentLength  Unassigned_Duplicate  ...  r_written  \\\n",
       "Abaum_0001                   352417.0                   0.0  ...  6172690.0   \n",
       "Abaum_0002                   406844.0                   0.0  ...  5735887.0   \n",
       "Abaum_0003                   322476.0                   0.0  ...  6075776.0   \n",
       "Abaum_0004                   317658.0                   0.0  ...  5669326.0   \n",
       "Abaum_0005                   258047.0                   0.0  ...  5588013.0   \n",
       "\n",
       "            bp_processed  quality_trimmed  bp_written  percent_trimmed  \\\n",
       "Abaum_0001     314807190           169667   311892133         0.925982   \n",
       "Abaum_0002     292530237           155954   289832810         0.922102   \n",
       "Abaum_0003     309864576           182657   306949424         0.940783   \n",
       "Abaum_0004     289135626           163691   286404708         0.944511   \n",
       "Abaum_0005     284988663           158880   282292257         0.946145   \n",
       "\n",
       "            pe_sense  pe_antisense  failed  se_sense  se_antisense  \n",
       "Abaum_0001    0.1598        0.8402     0.0       0.0           0.0  \n",
       "Abaum_0002    0.1319        0.8681     0.0       0.0           0.0  \n",
       "Abaum_0003    0.1465        0.8535     0.0       0.0           0.0  \n",
       "Abaum_0004    0.2957        0.7043     0.0       0.0           0.0  \n",
       "Abaum_0005    0.3194        0.6806     0.0       0.0           0.0  \n",
       "\n",
       "[5 rows x 54 columns]"
      ]
     },
     "execution_count": 9,
     "metadata": {},
     "output_type": "execute_result"
    }
   ],
   "source": [
    "DF_qc_stats.fillna(0,inplace=True)\n",
    "DF_qc_stats.head()"
   ]
  },
  {
   "cell_type": "markdown",
   "id": "sought-question",
   "metadata": {},
   "source": [
    "## Load metadata"
   ]
  },
  {
   "cell_type": "code",
   "execution_count": 10,
   "id": "electoral-provider",
   "metadata": {},
   "outputs": [
    {
     "name": "stdout",
     "output_type": "stream",
     "text": [
      "Number of samples with metadata: 164\n"
     ]
    },
    {
     "data": {
      "text/html": [
       "<div>\n",
       "<style scoped>\n",
       "    .dataframe tbody tr th:only-of-type {\n",
       "        vertical-align: middle;\n",
       "    }\n",
       "\n",
       "    .dataframe tbody tr th {\n",
       "        vertical-align: top;\n",
       "    }\n",
       "\n",
       "    .dataframe thead th {\n",
       "        text-align: right;\n",
       "    }\n",
       "</style>\n",
       "<table border=\"1\" class=\"dataframe\">\n",
       "  <thead>\n",
       "    <tr style=\"text-align: right;\">\n",
       "      <th></th>\n",
       "      <th>ReleaseDate</th>\n",
       "      <th>TaxID</th>\n",
       "      <th>ScientificName</th>\n",
       "      <th>species_tax_id</th>\n",
       "      <th>class_tax_id</th>\n",
       "      <th>strain_tax_id</th>\n",
       "      <th>species</th>\n",
       "      <th>LibraryLayout</th>\n",
       "      <th>Platform</th>\n",
       "      <th>Model</th>\n",
       "      <th>...</th>\n",
       "      <th>aerobicity</th>\n",
       "      <th>supplement</th>\n",
       "      <th>temperature</th>\n",
       "      <th>pH</th>\n",
       "      <th>growth_phase</th>\n",
       "      <th>OD</th>\n",
       "      <th>notes</th>\n",
       "      <th>Title</th>\n",
       "      <th>Condition</th>\n",
       "      <th>additional_notes</th>\n",
       "    </tr>\n",
       "    <tr>\n",
       "      <th>Experiment</th>\n",
       "      <th></th>\n",
       "      <th></th>\n",
       "      <th></th>\n",
       "      <th></th>\n",
       "      <th></th>\n",
       "      <th></th>\n",
       "      <th></th>\n",
       "      <th></th>\n",
       "      <th></th>\n",
       "      <th></th>\n",
       "      <th></th>\n",
       "      <th></th>\n",
       "      <th></th>\n",
       "      <th></th>\n",
       "      <th></th>\n",
       "      <th></th>\n",
       "      <th></th>\n",
       "      <th></th>\n",
       "      <th></th>\n",
       "      <th></th>\n",
       "      <th></th>\n",
       "    </tr>\n",
       "  </thead>\n",
       "  <tbody>\n",
       "    <tr>\n",
       "      <th>SRX1464764</th>\n",
       "      <td>3/30/16 17:09</td>\n",
       "      <td>1116234</td>\n",
       "      <td>Acinetobacter baumannii AB5075</td>\n",
       "      <td>470</td>\n",
       "      <td>1236</td>\n",
       "      <td>1116234</td>\n",
       "      <td>Acinetobacter baumannii</td>\n",
       "      <td>SINGLE</td>\n",
       "      <td>ION_TORRENT</td>\n",
       "      <td>Ion Torrent PGM</td>\n",
       "      <td>...</td>\n",
       "      <td>0</td>\n",
       "      <td>0</td>\n",
       "      <td>0</td>\n",
       "      <td>0</td>\n",
       "      <td>0</td>\n",
       "      <td>0.0</td>\n",
       "      <td>0</td>\n",
       "      <td>0</td>\n",
       "      <td>0</td>\n",
       "      <td>0</td>\n",
       "    </tr>\n",
       "    <tr>\n",
       "      <th>SRX1928983</th>\n",
       "      <td>9/29/16 16:56</td>\n",
       "      <td>470</td>\n",
       "      <td>Acinetobacter baumannii</td>\n",
       "      <td>470</td>\n",
       "      <td>1236</td>\n",
       "      <td>470</td>\n",
       "      <td>Acinetobacter baumannii</td>\n",
       "      <td>SINGLE</td>\n",
       "      <td>ILLUMINA</td>\n",
       "      <td>Illumina HiSeq 4000</td>\n",
       "      <td>...</td>\n",
       "      <td>0</td>\n",
       "      <td>0</td>\n",
       "      <td>0</td>\n",
       "      <td>0</td>\n",
       "      <td>0</td>\n",
       "      <td>0.0</td>\n",
       "      <td>0</td>\n",
       "      <td>0</td>\n",
       "      <td>0</td>\n",
       "      <td>0</td>\n",
       "    </tr>\n",
       "    <tr>\n",
       "      <th>SRX1928979</th>\n",
       "      <td>9/29/16 16:56</td>\n",
       "      <td>470</td>\n",
       "      <td>Acinetobacter baumannii</td>\n",
       "      <td>470</td>\n",
       "      <td>1236</td>\n",
       "      <td>470</td>\n",
       "      <td>Acinetobacter baumannii</td>\n",
       "      <td>SINGLE</td>\n",
       "      <td>ILLUMINA</td>\n",
       "      <td>Illumina HiSeq 4000</td>\n",
       "      <td>...</td>\n",
       "      <td>0</td>\n",
       "      <td>0</td>\n",
       "      <td>0</td>\n",
       "      <td>0</td>\n",
       "      <td>0</td>\n",
       "      <td>0.0</td>\n",
       "      <td>0</td>\n",
       "      <td>0</td>\n",
       "      <td>0</td>\n",
       "      <td>0</td>\n",
       "    </tr>\n",
       "    <tr>\n",
       "      <th>SRX1928984</th>\n",
       "      <td>9/29/16 16:56</td>\n",
       "      <td>470</td>\n",
       "      <td>Acinetobacter baumannii</td>\n",
       "      <td>470</td>\n",
       "      <td>1236</td>\n",
       "      <td>470</td>\n",
       "      <td>Acinetobacter baumannii</td>\n",
       "      <td>SINGLE</td>\n",
       "      <td>ILLUMINA</td>\n",
       "      <td>Illumina HiSeq 4000</td>\n",
       "      <td>...</td>\n",
       "      <td>0</td>\n",
       "      <td>0</td>\n",
       "      <td>0</td>\n",
       "      <td>0</td>\n",
       "      <td>0</td>\n",
       "      <td>0.0</td>\n",
       "      <td>0</td>\n",
       "      <td>0</td>\n",
       "      <td>0</td>\n",
       "      <td>0</td>\n",
       "    </tr>\n",
       "    <tr>\n",
       "      <th>SRX1928980</th>\n",
       "      <td>9/29/16 16:56</td>\n",
       "      <td>470</td>\n",
       "      <td>Acinetobacter baumannii</td>\n",
       "      <td>470</td>\n",
       "      <td>1236</td>\n",
       "      <td>470</td>\n",
       "      <td>Acinetobacter baumannii</td>\n",
       "      <td>SINGLE</td>\n",
       "      <td>ILLUMINA</td>\n",
       "      <td>Illumina HiSeq 4000</td>\n",
       "      <td>...</td>\n",
       "      <td>0</td>\n",
       "      <td>0</td>\n",
       "      <td>0</td>\n",
       "      <td>0</td>\n",
       "      <td>0</td>\n",
       "      <td>0.0</td>\n",
       "      <td>0</td>\n",
       "      <td>0</td>\n",
       "      <td>0</td>\n",
       "      <td>0</td>\n",
       "    </tr>\n",
       "  </tbody>\n",
       "</table>\n",
       "<p>5 rows × 51 columns</p>\n",
       "</div>"
      ],
      "text/plain": [
       "              ReleaseDate    TaxID                  ScientificName  \\\n",
       "Experiment                                                           \n",
       "SRX1464764  3/30/16 17:09  1116234  Acinetobacter baumannii AB5075   \n",
       "SRX1928983  9/29/16 16:56      470         Acinetobacter baumannii   \n",
       "SRX1928979  9/29/16 16:56      470         Acinetobacter baumannii   \n",
       "SRX1928984  9/29/16 16:56      470         Acinetobacter baumannii   \n",
       "SRX1928980  9/29/16 16:56      470         Acinetobacter baumannii   \n",
       "\n",
       "            species_tax_id  class_tax_id  strain_tax_id  \\\n",
       "Experiment                                                \n",
       "SRX1464764             470          1236        1116234   \n",
       "SRX1928983             470          1236            470   \n",
       "SRX1928979             470          1236            470   \n",
       "SRX1928984             470          1236            470   \n",
       "SRX1928980             470          1236            470   \n",
       "\n",
       "                            species LibraryLayout     Platform  \\\n",
       "Experiment                                                       \n",
       "SRX1464764  Acinetobacter baumannii        SINGLE  ION_TORRENT   \n",
       "SRX1928983  Acinetobacter baumannii        SINGLE     ILLUMINA   \n",
       "SRX1928979  Acinetobacter baumannii        SINGLE     ILLUMINA   \n",
       "SRX1928984  Acinetobacter baumannii        SINGLE     ILLUMINA   \n",
       "SRX1928980  Acinetobacter baumannii        SINGLE     ILLUMINA   \n",
       "\n",
       "                          Model  ... aerobicity supplement temperature  pH  \\\n",
       "Experiment                       ...                                         \n",
       "SRX1464764      Ion Torrent PGM  ...          0          0           0   0   \n",
       "SRX1928983  Illumina HiSeq 4000  ...          0          0           0   0   \n",
       "SRX1928979  Illumina HiSeq 4000  ...          0          0           0   0   \n",
       "SRX1928984  Illumina HiSeq 4000  ...          0          0           0   0   \n",
       "SRX1928980  Illumina HiSeq 4000  ...          0          0           0   0   \n",
       "\n",
       "           growth_phase   OD notes Title Condition additional_notes  \n",
       "Experiment                                                           \n",
       "SRX1464764            0  0.0     0     0         0                0  \n",
       "SRX1928983            0  0.0     0     0         0                0  \n",
       "SRX1928979            0  0.0     0     0         0                0  \n",
       "SRX1928984            0  0.0     0     0         0                0  \n",
       "SRX1928980            0  0.0     0     0         0                0  \n",
       "\n",
       "[5 rows x 51 columns]"
      ]
     },
     "execution_count": 10,
     "metadata": {},
     "output_type": "execute_result"
    }
   ],
   "source": [
    "DF_metadata = pd.read_csv(path.join(data_dir,'metadata_curated_4.0.csv'),index_col=0,sep=',')\n",
    "print('Number of samples with metadata:',DF_metadata.shape[0])\n",
    "DF_metadata.head()"
   ]
  },
  {
   "cell_type": "markdown",
   "id": "strategic-photographer",
   "metadata": {},
   "source": [
    "## Remove extra sample rows"
   ]
  },
  {
   "cell_type": "code",
   "execution_count": 11,
   "id": "surgical-dealing",
   "metadata": {},
   "outputs": [],
   "source": [
    "# Ensure that metadata and qc_stats data contain all log_tpm sample information\n",
    "assert(set(DF_log_tpm.columns) - set(DF_metadata.index) == set())\n",
    "assert(set(DF_log_tpm.columns) - set(DF_qc_stats.index) == set())"
   ]
  },
  {
   "cell_type": "code",
   "execution_count": 12,
   "id": "joint-lewis",
   "metadata": {},
   "outputs": [],
   "source": [
    "DF_metadata = DF_metadata.loc[DF_log_tpm.columns]\n",
    "DF_qc_stats = DF_qc_stats.loc[DF_log_tpm.columns]"
   ]
  },
  {
   "cell_type": "code",
   "execution_count": 13,
   "id": "promotional-breakdown",
   "metadata": {},
   "outputs": [
    {
     "name": "stdout",
     "output_type": "stream",
     "text": [
      "Number of samples from metadata: 162\n",
      "Number of samples from qc stats: 162\n"
     ]
    }
   ],
   "source": [
    "print('Number of samples from metadata:',DF_metadata.shape[0])\n",
    "print('Number of samples from qc stats:',DF_qc_stats.shape[0])"
   ]
  },
  {
   "cell_type": "markdown",
   "id": "experienced-access",
   "metadata": {},
   "source": [
    "# Check statistics"
   ]
  },
  {
   "cell_type": "markdown",
   "id": "typical-password",
   "metadata": {},
   "source": [
    "From here, create a new spreadsheet where you can flag samples based on various QC statistics\n"
   ]
  },
  {
   "cell_type": "markdown",
   "id": "banned-reservation",
   "metadata": {},
   "source": [
    "## FastQC stats"
   ]
  },
  {
   "cell_type": "code",
   "execution_count": 14,
   "id": "imported-speech",
   "metadata": {},
   "outputs": [],
   "source": [
    "fastqc_cols = ['per_base_sequence_quality',\n",
    "       'per_tile_sequence_quality', 'per_sequence_quality_scores',\n",
    "       'per_base_sequence_content', 'per_sequence_gc_content',\n",
    "       'per_base_n_content', 'sequence_length_distribution',\n",
    "       'sequence_duplication_levels', 'overrepresented_sequences',\n",
    "       'adapter_content']"
   ]
  },
  {
   "cell_type": "code",
   "execution_count": 15,
   "id": "otherwise-monte",
   "metadata": {},
   "outputs": [
    {
     "data": {
      "image/png": "[encoded data removed]",
      "text/plain": [
       "<Figure size 432x288 with 2 Axes>"
      ]
     },
     "metadata": {},
     "output_type": "display_data"
    }
   ],
   "source": [
    "DF_fastqc = DF_qc_stats[fastqc_cols]\n",
    "ax = sns.heatmap(DF_fastqc.replace('pass',1).replace('warn',0).replace('fail',-1),\n",
    "            cmap='RdYlBu',vmax=1.3,vmin=-1.3)\n",
    "cbar = ax.collections[0].colorbar\n",
    "cbar.set_ticks([-1,0,1])\n",
    "cbar.set_ticklabels(['fail','warn','pass'])"
   ]
  },
  {
   "cell_type": "markdown",
   "id": "amateur-traffic",
   "metadata": {},
   "source": [
    "The following four categories are the most important: \n",
    "- per_base_sequence_quality \n",
    "- per_sequence_quality_scores \n",
    "- per_base_n_content \n",
    "- adapter_content\n",
    "\n",
    "If a sample does not pass any of these four categories, discard the sample"
   ]
  },
  {
   "cell_type": "code",
   "execution_count": 16,
   "id": "flush-fever",
   "metadata": {},
   "outputs": [],
   "source": [
    "fastqc_fail_cols = ['per_base_sequence_quality','per_sequence_quality_scores','per_base_n_content','adapter_content']"
   ]
  },
  {
   "cell_type": "code",
   "execution_count": 17,
   "id": "damaged-comfort",
   "metadata": {},
   "outputs": [
    {
     "data": {
      "text/html": [
       "<div>\n",
       "<style scoped>\n",
       "    .dataframe tbody tr th:only-of-type {\n",
       "        vertical-align: middle;\n",
       "    }\n",
       "\n",
       "    .dataframe tbody tr th {\n",
       "        vertical-align: top;\n",
       "    }\n",
       "\n",
       "    .dataframe thead th {\n",
       "        text-align: right;\n",
       "    }\n",
       "</style>\n",
       "<table border=\"1\" class=\"dataframe\">\n",
       "  <thead>\n",
       "    <tr style=\"text-align: right;\">\n",
       "      <th></th>\n",
       "      <th>per_base_sequence_quality</th>\n",
       "      <th>per_sequence_quality_scores</th>\n",
       "      <th>per_base_n_content</th>\n",
       "      <th>adapter_content</th>\n",
       "    </tr>\n",
       "  </thead>\n",
       "  <tbody>\n",
       "    <tr>\n",
       "      <th>ERX1215169</th>\n",
       "      <td>fail</td>\n",
       "      <td>pass</td>\n",
       "      <td>fail</td>\n",
       "      <td>pass</td>\n",
       "    </tr>\n",
       "    <tr>\n",
       "      <th>ERX1215170</th>\n",
       "      <td>pass</td>\n",
       "      <td>pass</td>\n",
       "      <td>warn</td>\n",
       "      <td>pass</td>\n",
       "    </tr>\n",
       "    <tr>\n",
       "      <th>ERX1215171</th>\n",
       "      <td>pass</td>\n",
       "      <td>pass</td>\n",
       "      <td>warn</td>\n",
       "      <td>pass</td>\n",
       "    </tr>\n",
       "    <tr>\n",
       "      <th>ERX1215172</th>\n",
       "      <td>pass</td>\n",
       "      <td>pass</td>\n",
       "      <td>warn</td>\n",
       "      <td>pass</td>\n",
       "    </tr>\n",
       "    <tr>\n",
       "      <th>SRX1464764</th>\n",
       "      <td>warn</td>\n",
       "      <td>pass</td>\n",
       "      <td>pass</td>\n",
       "      <td>pass</td>\n",
       "    </tr>\n",
       "  </tbody>\n",
       "</table>\n",
       "</div>"
      ],
      "text/plain": [
       "           per_base_sequence_quality per_sequence_quality_scores  \\\n",
       "ERX1215169                      fail                        pass   \n",
       "ERX1215170                      pass                        pass   \n",
       "ERX1215171                      pass                        pass   \n",
       "ERX1215172                      pass                        pass   \n",
       "SRX1464764                      warn                        pass   \n",
       "\n",
       "           per_base_n_content adapter_content  \n",
       "ERX1215169               fail            pass  \n",
       "ERX1215170               warn            pass  \n",
       "ERX1215171               warn            pass  \n",
       "ERX1215172               warn            pass  \n",
       "SRX1464764               pass            pass  "
      ]
     },
     "execution_count": 17,
     "metadata": {},
     "output_type": "execute_result"
    }
   ],
   "source": [
    "DF_failed_fastqc = DF_fastqc[fastqc_fail_cols][(DF_fastqc[fastqc_fail_cols] != 'pass').any(axis=1)]\n",
    "DF_failed_fastqc[fastqc_fail_cols]"
   ]
  },
  {
   "cell_type": "code",
   "execution_count": 18,
   "id": "disciplinary-ideal",
   "metadata": {},
   "outputs": [
    {
     "name": "stdout",
     "output_type": "stream",
     "text": [
      "Number of samples that failed fastqc: 5\n"
     ]
    }
   ],
   "source": [
    "print('Number of samples that failed fastqc:',DF_failed_fastqc.shape[0])"
   ]
  },
  {
   "cell_type": "markdown",
   "id": "given-legislation",
   "metadata": {},
   "source": [
    "Mark samples as failed."
   ]
  },
  {
   "cell_type": "code",
   "execution_count": 19,
   "id": "recognized-physiology",
   "metadata": {},
   "outputs": [],
   "source": [
    "DF_metadata['passed_fastqc'] = ~DF_metadata.index.isin(DF_failed_fastqc.index)"
   ]
  },
  {
   "cell_type": "code",
   "execution_count": 20,
   "id": "conditional-crash",
   "metadata": {},
   "outputs": [
    {
     "data": {
      "text/plain": [
       "Abaum_0001    True\n",
       "Abaum_0002    True\n",
       "Abaum_0003    True\n",
       "Abaum_0004    True\n",
       "Abaum_0005    True\n",
       "              ... \n",
       "ABNM044       True\n",
       "ABNM045       True\n",
       "ABNM046       True\n",
       "ABNM047       True\n",
       "ABNM048       True\n",
       "Name: passed_fastqc, Length: 162, dtype: bool"
      ]
     },
     "execution_count": 20,
     "metadata": {},
     "output_type": "execute_result"
    }
   ],
   "source": [
    "DF_metadata['passed_fastqc'] "
   ]
  },
  {
   "cell_type": "markdown",
   "id": "banned-dividend",
   "metadata": {},
   "source": [
    "## Number of aligned reads"
   ]
  },
  {
   "cell_type": "markdown",
   "id": "verbal-excerpt",
   "metadata": {},
   "source": [
    "The following histogram shows how many reads map to coding sequences (i.e. mRNA). Too few aligned reads reduces the sensitivity of the resulting data."
   ]
  },
  {
   "cell_type": "code",
   "execution_count": 21,
   "id": "stopped-burke",
   "metadata": {},
   "outputs": [
    {
     "data": {
      "text/plain": [
       "500000.0"
      ]
     },
     "execution_count": 21,
     "metadata": {},
     "output_type": "execute_result"
    }
   ],
   "source": [
    "min_mrna_reads"
   ]
  },
  {
   "cell_type": "code",
   "execution_count": 22,
   "id": "hourly-awareness",
   "metadata": {},
   "outputs": [
    {
     "data": {
      "text/plain": [
       "Text(0.5, 1.0, 'Number of reads mapped to CDS')"
      ]
     },
     "execution_count": 22,
     "metadata": {},
     "output_type": "execute_result"
    },
    {
     "data": {
      "image/png": "[encoded data removed]",
      "text/plain": [
       "<Figure size 432x288 with 1 Axes>"
      ]
     },
     "metadata": {},
     "output_type": "display_data"
    }
   ],
   "source": [
    "fig,ax = plt.subplots()\n",
    "ax.hist(DF_qc_stats['Assigned']/1e6,bins=50,alpha=0.8)\n",
    "ymin,ymax = ax.get_ylim()\n",
    "ax.vlines(min_mrna_reads/1e6,ymin,ymax,color='r')\n",
    "ax.set_ylim((ymin,ymax))\n",
    "ax.set_xlabel('# Reads (M)',fontsize=14)\n",
    "ax.set_ylabel('# Samples',fontsize=14)\n",
    "ax.set_title('Number of reads mapped to CDS',fontsize=16)"
   ]
  },
  {
   "cell_type": "code",
   "execution_count": 23,
   "id": "exclusive-posting",
   "metadata": {},
   "outputs": [
    {
     "data": {
      "text/html": [
       "<div>\n",
       "<style scoped>\n",
       "    .dataframe tbody tr th:only-of-type {\n",
       "        vertical-align: middle;\n",
       "    }\n",
       "\n",
       "    .dataframe tbody tr th {\n",
       "        vertical-align: top;\n",
       "    }\n",
       "\n",
       "    .dataframe thead th {\n",
       "        text-align: right;\n",
       "    }\n",
       "</style>\n",
       "<table border=\"1\" class=\"dataframe\">\n",
       "  <thead>\n",
       "    <tr style=\"text-align: right;\">\n",
       "      <th></th>\n",
       "      <th>Total</th>\n",
       "      <th>Assigned</th>\n",
       "      <th>Unassigned_rRNA</th>\n",
       "      <th>Unassigned_Unmapped</th>\n",
       "      <th>Unassigned_Read_Type</th>\n",
       "      <th>Unassigned_Singleton</th>\n",
       "      <th>Unassigned_MappingQuality</th>\n",
       "      <th>Unassigned_Chimera</th>\n",
       "      <th>Unassigned_FragmentLength</th>\n",
       "      <th>Unassigned_Duplicate</th>\n",
       "      <th>...</th>\n",
       "      <th>r_written</th>\n",
       "      <th>bp_processed</th>\n",
       "      <th>quality_trimmed</th>\n",
       "      <th>bp_written</th>\n",
       "      <th>percent_trimmed</th>\n",
       "      <th>pe_sense</th>\n",
       "      <th>pe_antisense</th>\n",
       "      <th>failed</th>\n",
       "      <th>se_sense</th>\n",
       "      <th>se_antisense</th>\n",
       "    </tr>\n",
       "  </thead>\n",
       "  <tbody>\n",
       "    <tr>\n",
       "      <th>SRX8696864</th>\n",
       "      <td>2089808.0</td>\n",
       "      <td>47.0</td>\n",
       "      <td>6.0</td>\n",
       "      <td>2085786.0</td>\n",
       "      <td>0.0</td>\n",
       "      <td>0.0</td>\n",
       "      <td>0.0</td>\n",
       "      <td>0.0</td>\n",
       "      <td>48.0</td>\n",
       "      <td>0.0</td>\n",
       "      <td>...</td>\n",
       "      <td>2100532.0</td>\n",
       "      <td>288251916</td>\n",
       "      <td>520906</td>\n",
       "      <td>286413872</td>\n",
       "      <td>0.637652</td>\n",
       "      <td>0.0000</td>\n",
       "      <td>1.0000</td>\n",
       "      <td>0.0000</td>\n",
       "      <td>0.0</td>\n",
       "      <td>0.0</td>\n",
       "    </tr>\n",
       "    <tr>\n",
       "      <th>SRX8696871</th>\n",
       "      <td>2703472.0</td>\n",
       "      <td>125.0</td>\n",
       "      <td>1.0</td>\n",
       "      <td>2697479.0</td>\n",
       "      <td>0.0</td>\n",
       "      <td>0.0</td>\n",
       "      <td>0.0</td>\n",
       "      <td>0.0</td>\n",
       "      <td>74.0</td>\n",
       "      <td>0.0</td>\n",
       "      <td>...</td>\n",
       "      <td>2714850.0</td>\n",
       "      <td>376967091</td>\n",
       "      <td>734934</td>\n",
       "      <td>374736266</td>\n",
       "      <td>0.591782</td>\n",
       "      <td>0.0000</td>\n",
       "      <td>1.0000</td>\n",
       "      <td>0.0000</td>\n",
       "      <td>0.0</td>\n",
       "      <td>0.0</td>\n",
       "    </tr>\n",
       "    <tr>\n",
       "      <th>SRX8696865</th>\n",
       "      <td>1814795.0</td>\n",
       "      <td>3484.0</td>\n",
       "      <td>27.0</td>\n",
       "      <td>1810838.0</td>\n",
       "      <td>0.0</td>\n",
       "      <td>0.0</td>\n",
       "      <td>0.0</td>\n",
       "      <td>0.0</td>\n",
       "      <td>33.0</td>\n",
       "      <td>0.0</td>\n",
       "      <td>...</td>\n",
       "      <td>1820144.0</td>\n",
       "      <td>256954408</td>\n",
       "      <td>537301</td>\n",
       "      <td>255778008</td>\n",
       "      <td>0.457824</td>\n",
       "      <td>0.0000</td>\n",
       "      <td>0.0000</td>\n",
       "      <td>0.0000</td>\n",
       "      <td>0.0</td>\n",
       "      <td>0.0</td>\n",
       "    </tr>\n",
       "    <tr>\n",
       "      <th>SRX8696869</th>\n",
       "      <td>2114821.0</td>\n",
       "      <td>3632.0</td>\n",
       "      <td>172.0</td>\n",
       "      <td>2110486.0</td>\n",
       "      <td>0.0</td>\n",
       "      <td>0.0</td>\n",
       "      <td>0.0</td>\n",
       "      <td>0.0</td>\n",
       "      <td>69.0</td>\n",
       "      <td>0.0</td>\n",
       "      <td>...</td>\n",
       "      <td>2124003.0</td>\n",
       "      <td>291317155</td>\n",
       "      <td>569627</td>\n",
       "      <td>289510243</td>\n",
       "      <td>0.620256</td>\n",
       "      <td>1.0000</td>\n",
       "      <td>0.0000</td>\n",
       "      <td>0.0000</td>\n",
       "      <td>0.0</td>\n",
       "      <td>0.0</td>\n",
       "    </tr>\n",
       "    <tr>\n",
       "      <th>SRX8696868</th>\n",
       "      <td>2371869.0</td>\n",
       "      <td>4014.0</td>\n",
       "      <td>130.0</td>\n",
       "      <td>2367072.0</td>\n",
       "      <td>0.0</td>\n",
       "      <td>0.0</td>\n",
       "      <td>0.0</td>\n",
       "      <td>0.0</td>\n",
       "      <td>77.0</td>\n",
       "      <td>0.0</td>\n",
       "      <td>...</td>\n",
       "      <td>2383998.0</td>\n",
       "      <td>324518012</td>\n",
       "      <td>664217</td>\n",
       "      <td>322296604</td>\n",
       "      <td>0.684525</td>\n",
       "      <td>1.0000</td>\n",
       "      <td>0.0000</td>\n",
       "      <td>0.0000</td>\n",
       "      <td>0.0</td>\n",
       "      <td>0.0</td>\n",
       "    </tr>\n",
       "    <tr>\n",
       "      <th>SRX8696866</th>\n",
       "      <td>2341245.0</td>\n",
       "      <td>4346.0</td>\n",
       "      <td>212.0</td>\n",
       "      <td>2336102.0</td>\n",
       "      <td>0.0</td>\n",
       "      <td>0.0</td>\n",
       "      <td>0.0</td>\n",
       "      <td>0.0</td>\n",
       "      <td>57.0</td>\n",
       "      <td>0.0</td>\n",
       "      <td>...</td>\n",
       "      <td>2349904.0</td>\n",
       "      <td>325156264</td>\n",
       "      <td>787001</td>\n",
       "      <td>323422005</td>\n",
       "      <td>0.533362</td>\n",
       "      <td>0.6000</td>\n",
       "      <td>0.4000</td>\n",
       "      <td>0.0000</td>\n",
       "      <td>0.0</td>\n",
       "      <td>0.0</td>\n",
       "    </tr>\n",
       "    <tr>\n",
       "      <th>SRX8696870</th>\n",
       "      <td>2210363.0</td>\n",
       "      <td>4482.0</td>\n",
       "      <td>25.0</td>\n",
       "      <td>2205203.0</td>\n",
       "      <td>0.0</td>\n",
       "      <td>0.0</td>\n",
       "      <td>0.0</td>\n",
       "      <td>0.0</td>\n",
       "      <td>78.0</td>\n",
       "      <td>0.0</td>\n",
       "      <td>...</td>\n",
       "      <td>2221187.0</td>\n",
       "      <td>300812977</td>\n",
       "      <td>642286</td>\n",
       "      <td>298614635</td>\n",
       "      <td>0.730800</td>\n",
       "      <td>0.0000</td>\n",
       "      <td>0.0000</td>\n",
       "      <td>0.0000</td>\n",
       "      <td>0.0</td>\n",
       "      <td>0.0</td>\n",
       "    </tr>\n",
       "    <tr>\n",
       "      <th>SRX8696867</th>\n",
       "      <td>2682600.0</td>\n",
       "      <td>5102.0</td>\n",
       "      <td>11.0</td>\n",
       "      <td>2676674.0</td>\n",
       "      <td>0.0</td>\n",
       "      <td>0.0</td>\n",
       "      <td>0.0</td>\n",
       "      <td>0.0</td>\n",
       "      <td>52.0</td>\n",
       "      <td>0.0</td>\n",
       "      <td>...</td>\n",
       "      <td>2694653.0</td>\n",
       "      <td>371863792</td>\n",
       "      <td>766009</td>\n",
       "      <td>369607269</td>\n",
       "      <td>0.606814</td>\n",
       "      <td>1.0000</td>\n",
       "      <td>0.0000</td>\n",
       "      <td>0.0000</td>\n",
       "      <td>0.0</td>\n",
       "      <td>0.0</td>\n",
       "    </tr>\n",
       "    <tr>\n",
       "      <th>ABNM039</th>\n",
       "      <td>7237590.0</td>\n",
       "      <td>371687.0</td>\n",
       "      <td>298990.0</td>\n",
       "      <td>6472323.0</td>\n",
       "      <td>0.0</td>\n",
       "      <td>0.0</td>\n",
       "      <td>0.0</td>\n",
       "      <td>0.0</td>\n",
       "      <td>18302.0</td>\n",
       "      <td>0.0</td>\n",
       "      <td>...</td>\n",
       "      <td>7250611.0</td>\n",
       "      <td>369781161</td>\n",
       "      <td>191774</td>\n",
       "      <td>366840066</td>\n",
       "      <td>0.795361</td>\n",
       "      <td>0.0521</td>\n",
       "      <td>0.6076</td>\n",
       "      <td>0.3403</td>\n",
       "      <td>0.0</td>\n",
       "      <td>0.0</td>\n",
       "    </tr>\n",
       "    <tr>\n",
       "      <th>SRX3737102</th>\n",
       "      <td>10316430.0</td>\n",
       "      <td>379879.0</td>\n",
       "      <td>51911.0</td>\n",
       "      <td>9756081.0</td>\n",
       "      <td>0.0</td>\n",
       "      <td>0.0</td>\n",
       "      <td>0.0</td>\n",
       "      <td>0.0</td>\n",
       "      <td>0.0</td>\n",
       "      <td>0.0</td>\n",
       "      <td>...</td>\n",
       "      <td>10330017.0</td>\n",
       "      <td>537160884</td>\n",
       "      <td>2451404</td>\n",
       "      <td>530216567</td>\n",
       "      <td>1.292782</td>\n",
       "      <td>0.0000</td>\n",
       "      <td>0.0000</td>\n",
       "      <td>0.0000</td>\n",
       "      <td>0.0</td>\n",
       "      <td>0.0</td>\n",
       "    </tr>\n",
       "  </tbody>\n",
       "</table>\n",
       "<p>10 rows × 54 columns</p>\n",
       "</div>"
      ],
      "text/plain": [
       "                 Total  Assigned  Unassigned_rRNA  Unassigned_Unmapped  \\\n",
       "SRX8696864   2089808.0      47.0              6.0            2085786.0   \n",
       "SRX8696871   2703472.0     125.0              1.0            2697479.0   \n",
       "SRX8696865   1814795.0    3484.0             27.0            1810838.0   \n",
       "SRX8696869   2114821.0    3632.0            172.0            2110486.0   \n",
       "SRX8696868   2371869.0    4014.0            130.0            2367072.0   \n",
       "SRX8696866   2341245.0    4346.0            212.0            2336102.0   \n",
       "SRX8696870   2210363.0    4482.0             25.0            2205203.0   \n",
       "SRX8696867   2682600.0    5102.0             11.0            2676674.0   \n",
       "ABNM039      7237590.0  371687.0         298990.0            6472323.0   \n",
       "SRX3737102  10316430.0  379879.0          51911.0            9756081.0   \n",
       "\n",
       "            Unassigned_Read_Type  Unassigned_Singleton  \\\n",
       "SRX8696864                   0.0                   0.0   \n",
       "SRX8696871                   0.0                   0.0   \n",
       "SRX8696865                   0.0                   0.0   \n",
       "SRX8696869                   0.0                   0.0   \n",
       "SRX8696868                   0.0                   0.0   \n",
       "SRX8696866                   0.0                   0.0   \n",
       "SRX8696870                   0.0                   0.0   \n",
       "SRX8696867                   0.0                   0.0   \n",
       "ABNM039                      0.0                   0.0   \n",
       "SRX3737102                   0.0                   0.0   \n",
       "\n",
       "            Unassigned_MappingQuality  Unassigned_Chimera  \\\n",
       "SRX8696864                        0.0                 0.0   \n",
       "SRX8696871                        0.0                 0.0   \n",
       "SRX8696865                        0.0                 0.0   \n",
       "SRX8696869                        0.0                 0.0   \n",
       "SRX8696868                        0.0                 0.0   \n",
       "SRX8696866                        0.0                 0.0   \n",
       "SRX8696870                        0.0                 0.0   \n",
       "SRX8696867                        0.0                 0.0   \n",
       "ABNM039                           0.0                 0.0   \n",
       "SRX3737102                        0.0                 0.0   \n",
       "\n",
       "            Unassigned_FragmentLength  Unassigned_Duplicate  ...   r_written  \\\n",
       "SRX8696864                       48.0                   0.0  ...   2100532.0   \n",
       "SRX8696871                       74.0                   0.0  ...   2714850.0   \n",
       "SRX8696865                       33.0                   0.0  ...   1820144.0   \n",
       "SRX8696869                       69.0                   0.0  ...   2124003.0   \n",
       "SRX8696868                       77.0                   0.0  ...   2383998.0   \n",
       "SRX8696866                       57.0                   0.0  ...   2349904.0   \n",
       "SRX8696870                       78.0                   0.0  ...   2221187.0   \n",
       "SRX8696867                       52.0                   0.0  ...   2694653.0   \n",
       "ABNM039                       18302.0                   0.0  ...   7250611.0   \n",
       "SRX3737102                        0.0                   0.0  ...  10330017.0   \n",
       "\n",
       "            bp_processed  quality_trimmed  bp_written  percent_trimmed  \\\n",
       "SRX8696864     288251916           520906   286413872         0.637652   \n",
       "SRX8696871     376967091           734934   374736266         0.591782   \n",
       "SRX8696865     256954408           537301   255778008         0.457824   \n",
       "SRX8696869     291317155           569627   289510243         0.620256   \n",
       "SRX8696868     324518012           664217   322296604         0.684525   \n",
       "SRX8696866     325156264           787001   323422005         0.533362   \n",
       "SRX8696870     300812977           642286   298614635         0.730800   \n",
       "SRX8696867     371863792           766009   369607269         0.606814   \n",
       "ABNM039        369781161           191774   366840066         0.795361   \n",
       "SRX3737102     537160884          2451404   530216567         1.292782   \n",
       "\n",
       "            pe_sense  pe_antisense  failed  se_sense  se_antisense  \n",
       "SRX8696864    0.0000        1.0000  0.0000       0.0           0.0  \n",
       "SRX8696871    0.0000        1.0000  0.0000       0.0           0.0  \n",
       "SRX8696865    0.0000        0.0000  0.0000       0.0           0.0  \n",
       "SRX8696869    1.0000        0.0000  0.0000       0.0           0.0  \n",
       "SRX8696868    1.0000        0.0000  0.0000       0.0           0.0  \n",
       "SRX8696866    0.6000        0.4000  0.0000       0.0           0.0  \n",
       "SRX8696870    0.0000        0.0000  0.0000       0.0           0.0  \n",
       "SRX8696867    1.0000        0.0000  0.0000       0.0           0.0  \n",
       "ABNM039       0.0521        0.6076  0.3403       0.0           0.0  \n",
       "SRX3737102    0.0000        0.0000  0.0000       0.0           0.0  \n",
       "\n",
       "[10 rows x 54 columns]"
      ]
     },
     "execution_count": 23,
     "metadata": {},
     "output_type": "execute_result"
    }
   ],
   "source": [
    "DF_failed_mrna = DF_qc_stats[DF_qc_stats['Assigned'] < min_mrna_reads].sort_values('Assigned')\n",
    "DF_failed_mrna"
   ]
  },
  {
   "cell_type": "code",
   "execution_count": 24,
   "id": "cross-wednesday",
   "metadata": {},
   "outputs": [
    {
     "name": "stdout",
     "output_type": "stream",
     "text": [
      "Number of samples that failed min mRNA reads: 10\n"
     ]
    }
   ],
   "source": [
    "print('Number of samples that failed min mRNA reads:',DF_failed_mrna.shape[0])"
   ]
  },
  {
   "cell_type": "markdown",
   "id": "musical-swiss",
   "metadata": {},
   "source": [
    "Mark samples as failed."
   ]
  },
  {
   "cell_type": "code",
   "execution_count": 25,
   "id": "large-resolution",
   "metadata": {},
   "outputs": [],
   "source": [
    "DF_metadata['passed_reads_mapped_to_CDS'] = ~DF_metadata.index.isin(DF_failed_mrna.index)"
   ]
  },
  {
   "cell_type": "code",
   "execution_count": 26,
   "id": "renewable-scholarship",
   "metadata": {},
   "outputs": [
    {
     "data": {
      "text/plain": [
       "Abaum_0001    True\n",
       "Abaum_0002    True\n",
       "Abaum_0003    True\n",
       "Abaum_0004    True\n",
       "Abaum_0005    True\n",
       "              ... \n",
       "ABNM044       True\n",
       "ABNM045       True\n",
       "ABNM046       True\n",
       "ABNM047       True\n",
       "ABNM048       True\n",
       "Name: passed_reads_mapped_to_CDS, Length: 162, dtype: bool"
      ]
     },
     "execution_count": 26,
     "metadata": {},
     "output_type": "execute_result"
    }
   ],
   "source": [
    "DF_metadata['passed_reads_mapped_to_CDS']"
   ]
  },
  {
   "cell_type": "markdown",
   "id": "great-registration",
   "metadata": {},
   "source": [
    "# Examine Global Correlations"
   ]
  },
  {
   "cell_type": "markdown",
   "id": "right-intake",
   "metadata": {},
   "source": [
    "## Hierarchical Clustering"
   ]
  },
  {
   "cell_type": "markdown",
   "id": "abandoned-beginning",
   "metadata": {},
   "source": [
    "A clustermap is a great way to visualize the global correlations between one sample and all others. The following code uses hierarchical clustering to identify specific clusters in the clustermap\n",
    "\n",
    "To increase the number of clusters, decrease the value of thresh. To decrease the number of clusters, increase the value of thresh"
   ]
  },
  {
   "cell_type": "code",
   "execution_count": 27,
   "id": "western-cheese",
   "metadata": {},
   "outputs": [
    {
     "name": "stdout",
     "output_type": "stream",
     "text": [
      "Number of cluster:  5\n"
     ]
    }
   ],
   "source": [
    "import scipy.cluster.hierarchy as sch\n",
    "import matplotlib.patches as patches\n",
    "# change this to get different number of clusters\n",
    "thresh = .3\n",
    "\n",
    "# retrieve clusters using fcluster \n",
    "corr = DF_log_tpm.corr()\n",
    "corr.fillna(0,inplace=True)\n",
    "dist = sch.distance.pdist(corr)\n",
    "link = sch.linkage(dist, method='complete')\n",
    "clst = pd.DataFrame(index=DF_log_tpm.columns)\n",
    "clst['cluster'] = sch.fcluster(link, thresh * dist.max(), 'distance')\n",
    "\n",
    "#get colors for each cluster\n",
    "cm = plt.cm.get_cmap('tab20')\n",
    "clr = dict(zip(clst.cluster.unique(), cm.colors))\n",
    "clst['color'] = clst.cluster.map(clr)\n",
    "\n",
    "print('Number of cluster: ', len(clr))"
   ]
  },
  {
   "cell_type": "markdown",
   "id": "optional-laptop",
   "metadata": {},
   "source": [
    "To view sample IDs in the clustermap, set xticklabels and yticklabels to True. You can increase the size variable to improve readability of sample IDs"
   ]
  },
  {
   "cell_type": "code",
   "execution_count": 28,
   "id": "sapphire-board",
   "metadata": {},
   "outputs": [
    {
     "data": {
      "image/png": "[encoded data removed]",
      "text/plain": [
       "<Figure size 648x648 with 5 Axes>"
      ]
     },
     "metadata": {},
     "output_type": "display_data"
    }
   ],
   "source": [
    "size = 9\n",
    "\n",
    "legend_TN = [patches.Patch(color=c, label=l) for l,c in clr.items()]\n",
    "\n",
    "sns.set(rc={'figure.facecolor':'white'})\n",
    "g = sns.clustermap(DF_log_tpm.corr(), figsize=(size,size), \n",
    "                   row_linkage=link, col_linkage=link, col_colors=clst.color,\n",
    "                  yticklabels=False, xticklabels=False)\n",
    "\n",
    "l2=g.ax_heatmap.legend(loc='upper left', bbox_to_anchor=(1.01,0.85), handles=legend_TN,frameon=True)\n",
    "l2.set_title(title='Clusters',prop={'size':10})"
   ]
  },
  {
   "cell_type": "markdown",
   "id": "brief-milwaukee",
   "metadata": {},
   "source": [
    "Indicate which clusters you want to remove:"
   ]
  },
  {
   "cell_type": "code",
   "execution_count": 29,
   "id": "induced-norway",
   "metadata": {},
   "outputs": [],
   "source": [
    "remove_clst = [1]\n",
    "failed_global_corr = clst[clst.cluster.isin(remove_clst)].index"
   ]
  },
  {
   "cell_type": "code",
   "execution_count": 30,
   "id": "exempt-closer",
   "metadata": {},
   "outputs": [
    {
     "name": "stdout",
     "output_type": "stream",
     "text": [
      "Number of samples that failed global correlations: 2\n"
     ]
    }
   ],
   "source": [
    "print('Number of samples that failed global correlations:',failed_global_corr.shape[0])"
   ]
  },
  {
   "cell_type": "code",
   "execution_count": 31,
   "id": "featured-holmes",
   "metadata": {},
   "outputs": [],
   "source": [
    "DF_metadata['passed_global_correlation'] = ~DF_metadata.index.isin(failed_global_corr)"
   ]
  },
  {
   "cell_type": "code",
   "execution_count": 32,
   "id": "ecological-judge",
   "metadata": {},
   "outputs": [
    {
     "data": {
      "text/plain": [
       "Abaum_0001    True\n",
       "Abaum_0002    True\n",
       "Abaum_0003    True\n",
       "Abaum_0004    True\n",
       "Abaum_0005    True\n",
       "              ... \n",
       "ABNM044       True\n",
       "ABNM045       True\n",
       "ABNM046       True\n",
       "ABNM047       True\n",
       "ABNM048       True\n",
       "Name: passed_global_correlation, Length: 162, dtype: bool"
      ]
     },
     "execution_count": 32,
     "metadata": {},
     "output_type": "execute_result"
    }
   ],
   "source": [
    "DF_metadata['passed_global_correlation']"
   ]
  },
  {
   "cell_type": "markdown",
   "id": "worth-target",
   "metadata": {},
   "source": [
    "# Remove failed samples"
   ]
  },
  {
   "cell_type": "code",
   "execution_count": 33,
   "id": "specialized-primary",
   "metadata": {},
   "outputs": [],
   "source": [
    "qc_columns = ['passed_fastqc',\n",
    "              'passed_reads_mapped_to_CDS',\n",
    "              'passed_global_correlation']"
   ]
  },
  {
   "cell_type": "code",
   "execution_count": 34,
   "id": "joined-attachment",
   "metadata": {},
   "outputs": [],
   "source": [
    "pass_qc = DF_metadata[qc_columns].all(axis=1)\n",
    "DF_metadata_passed = DF_metadata[pass_qc]"
   ]
  },
  {
   "cell_type": "code",
   "execution_count": 35,
   "id": "frank-recycling",
   "metadata": {},
   "outputs": [
    {
     "name": "stdout",
     "output_type": "stream",
     "text": [
      "Number of samples that passed: 147\n"
     ]
    }
   ],
   "source": [
    "print('Number of samples that passed:',DF_metadata_passed.shape[0])"
   ]
  },
  {
   "cell_type": "code",
   "execution_count": 36,
   "id": "recognized-mexican",
   "metadata": {},
   "outputs": [
    {
     "data": {
      "image/png": "[encoded data removed]",
      "text/plain": [
       "<Figure size 432x288 with 1 Axes>"
      ]
     },
     "metadata": {},
     "output_type": "display_data"
    }
   ],
   "source": [
    "_,_,pcts = plt.pie(pass_qc.value_counts().sort_values(),\n",
    "        labels = ['Failed','Passed'],\n",
    "        colors=['tab:red','tab:blue'],\n",
    "        autopct='%.0f%%',textprops={'size':16});\n",
    "\n",
    "# Colors percents white\n",
    "for pct in pcts:\n",
    "    pct.set_color('white')\n",
    "    \n",
    "plt.savefig('../data/run4/processed_data/passedsamples.svg')"
   ]
  },
  {
   "cell_type": "markdown",
   "id": "light-horizontal",
   "metadata": {},
   "source": [
    "# Metadata Curation"
   ]
  },
  {
   "cell_type": "markdown",
   "id": "integrated-distributor",
   "metadata": {},
   "source": [
    "The following sections can only be run after metadata curation is complete. To enable metadata curation, the code in this section sorts data by BioProject."
   ]
  },
  {
   "cell_type": "markdown",
   "id": "mysterious-courage",
   "metadata": {},
   "source": [
    "## BioProject counts of passing metadata"
   ]
  },
  {
   "cell_type": "code",
   "execution_count": 37,
   "id": "subject-stuff",
   "metadata": {},
   "outputs": [
    {
     "data": {
      "text/plain": [
       "PRJNA375077    18\n",
       "Abaum_Nick     16\n",
       "PRJNA483526    12\n",
       "PRJNA435672    11\n",
       "PRJNA658638    10\n",
       "growth         10\n",
       "PRJNA400082     9\n",
       "MRP             8\n",
       "H2O2            8\n",
       "vacJ_LL-37      8\n",
       "COL             7\n",
       "mutants         6\n",
       "PRJEB11825      6\n",
       "PRJNA657043     6\n",
       "PRJNA545412     6\n",
       "PRJNA328520     4\n",
       "PRJEB11774      2\n",
       "Name: BioProject, dtype: int64"
      ]
     },
     "execution_count": 37,
     "metadata": {},
     "output_type": "execute_result"
    }
   ],
   "source": [
    "DF_metadata_passed.BioProject.value_counts().sort_values(ascending=False)"
   ]
  },
  {
   "cell_type": "markdown",
   "id": "brave-toddler",
   "metadata": {},
   "source": [
    "## BioProject counts of all metadata"
   ]
  },
  {
   "cell_type": "code",
   "execution_count": 38,
   "id": "acoustic-lincoln",
   "metadata": {},
   "outputs": [
    {
     "data": {
      "text/plain": [
       "PRJNA375077    18\n",
       "Abaum_Nick     16\n",
       "PRJNA483526    12\n",
       "PRJNA435672    12\n",
       "PRJNA658638    10\n",
       "growth         10\n",
       "PRJNA400082     9\n",
       "COL             8\n",
       "vacJ_LL-37      8\n",
       "H2O2            8\n",
       "MRP             8\n",
       "PRJNA645064     8\n",
       "mutants         6\n",
       "PRJEB11825      6\n",
       "PRJEB11774      6\n",
       "PRJNA657043     6\n",
       "PRJNA545412     6\n",
       "PRJNA328520     4\n",
       "PRJNA305130     1\n",
       "Name: BioProject, dtype: int64"
      ]
     },
     "execution_count": 38,
     "metadata": {},
     "output_type": "execute_result"
    }
   ],
   "source": [
    "DF_metadata.BioProject.value_counts().sort_values(ascending=False)"
   ]
  },
  {
   "cell_type": "markdown",
   "id": "detailed-fault",
   "metadata": {},
   "source": [
    "# Correlations between replicates"
   ]
  },
  {
   "cell_type": "markdown",
   "id": "incorporated-raise",
   "metadata": {},
   "source": [
    "First, get a full sample name."
   ]
  },
  {
   "cell_type": "code",
   "execution_count": 39,
   "id": "intimate-rings",
   "metadata": {},
   "outputs": [],
   "source": [
    "# Turn off pesky warning\n",
    "pd.set_option('mode.chained_assignment', None)"
   ]
  },
  {
   "cell_type": "code",
   "execution_count": 40,
   "id": "qualified-passion",
   "metadata": {},
   "outputs": [],
   "source": [
    "DF_metadata_passed['full_name'] = DF_metadata_passed.loc[:,'project_name'].str.cat(DF_metadata_passed.loc[:,'condition_name'],sep=':')"
   ]
  },
  {
   "cell_type": "markdown",
   "id": "incorporated-belief",
   "metadata": {},
   "source": [
    "## Compute Pearson R Score"
   ]
  },
  {
   "cell_type": "markdown",
   "id": "parliamentary-story",
   "metadata": {},
   "source": [
    "Once you have updated your metadata files with the sample information, we can investigate correlations between biological replicates. We require biological replicates to have a Pearson R correlation above 0.90. For samples with more than 2 replicates, the replicates must have R >= 0.90 with at least one other replicate or it will be dropped."
   ]
  },
  {
   "cell_type": "code",
   "execution_count": 41,
   "id": "auburn-scholarship",
   "metadata": {},
   "outputs": [],
   "source": [
    "from tqdm.notebook import tqdm\n",
    "import itertools\n",
    "from scipy import stats\n",
    "import numpy as np"
   ]
  },
  {
   "cell_type": "code",
   "execution_count": 42,
   "id": "approved-passenger",
   "metadata": {},
   "outputs": [
    {
     "data": {
      "application/vnd.jupyter.widget-view+json": {
       "model_id": "b921445ff2fe44339ef1a41de851378e",
       "version_major": 2,
       "version_minor": 0
      },
      "text/plain": [
       "  0%|          | 0/10731.0 [00:00<?, ?it/s]"
      ]
     },
     "metadata": {},
     "output_type": "display_data"
    }
   ],
   "source": [
    "rep_corrs = {}\n",
    "rand_corrs = {}\n",
    "\n",
    "num_comparisons = len(DF_metadata_passed)*(len(DF_metadata_passed)-1)/2\n",
    "for exp1,exp2 in tqdm(itertools.combinations(DF_metadata_passed.index,2),total=num_comparisons):\n",
    "    if DF_metadata_passed.loc[exp1,'full_name'] == DF_metadata_passed.loc[exp2,'full_name']:\n",
    "        rep_corrs[(exp1,exp2)] = stats.pearsonr(DF_log_tpm[exp1],DF_log_tpm[exp2])[0]\n",
    "    else:\n",
    "        rand_corrs[(exp1,exp2)] = stats.pearsonr(DF_log_tpm[exp1],DF_log_tpm[exp2])[0]"
   ]
  },
  {
   "cell_type": "code",
   "execution_count": 43,
   "id": "portable-slovak",
   "metadata": {},
   "outputs": [],
   "source": [
    "sns.set_style('ticks')"
   ]
  },
  {
   "cell_type": "code",
   "execution_count": 44,
   "id": "juvenile-regression",
   "metadata": {},
   "outputs": [
    {
     "name": "stdout",
     "output_type": "stream",
     "text": [
      "Median Pearson R between replicates: 0.98\n"
     ]
    },
    {
     "data": {
      "image/png": "[encoded data removed]",
      "text/plain": [
       "<Figure size 360x360 with 2 Axes>"
      ]
     },
     "metadata": {},
     "output_type": "display_data"
    }
   ],
   "source": [
    "fig,ax = plt.subplots(figsize=(5,5))\n",
    "ax2 = ax.twinx()\n",
    "ax2.hist(rep_corrs.values(),bins=50,range=(0.2,1),alpha=0.8,color='green',linewidth=0)\n",
    "ax.hist(rand_corrs.values(),bins=50,range=(0.2,1),alpha=0.8,color='blue',linewidth=0)\n",
    "ax.set_title('Pearson R correlation between experiments',fontsize=14)\n",
    "ax.set_xlabel('Pearson R correlation',fontsize=14)\n",
    "ax.set_ylabel('Different Conditions',fontsize=14)\n",
    "ax2.set_ylabel('Known Replicates',fontsize=14)\n",
    "\n",
    "med_corr = np.median([v for k,v in rep_corrs.items()])\n",
    "print('Median Pearson R between replicates: {:.2f}'.format(med_corr))"
   ]
  },
  {
   "cell_type": "code",
   "execution_count": 45,
   "id": "upper-alarm",
   "metadata": {},
   "outputs": [],
   "source": [
    "#pearson r cutoff for replicates\n",
    "rcutoff = 0.90\n",
    "\n",
    "#for each sample get max correlation between replicates\n",
    "dissimilar = []\n",
    "for idx, grp in DF_metadata_passed.groupby('full_name'):\n",
    "    ident = np.identity(len(grp))\n",
    "    corrs = (DF_log_tpm[grp.index].corr() - ident).max()\n",
    "    dissimilar.extend(corrs[corrs<rcutoff].index)\n",
    "DF_metadata['passed_replicate_corr'] = ~DF_metadata.index.isin(dissimilar)\n",
    "DF_metadata_passed['passed_similar_replicates'] = ~DF_metadata_passed.index.isin(dissimilar)"
   ]
  },
  {
   "cell_type": "markdown",
   "id": "variable-sigma",
   "metadata": {},
   "source": [
    "## Drop Samples with no replicates"
   ]
  },
  {
   "cell_type": "code",
   "execution_count": 46,
   "id": "desirable-parcel",
   "metadata": {},
   "outputs": [
    {
     "data": {
      "text/plain": [
       "Index(['LOS_AB5075', 'WT_AYE', 'LOS_AYE', 'WT_AB5075', 'adeRS', '0.5ug/ml'], dtype='object')"
      ]
     },
     "execution_count": 46,
     "metadata": {},
     "output_type": "execute_result"
    }
   ],
   "source": [
    "cond_counts = DF_metadata_passed.condition_name.value_counts()\n",
    "drop_conds = cond_counts[cond_counts < 2].index\n",
    "drop_conds"
   ]
  },
  {
   "cell_type": "code",
   "execution_count": 47,
   "id": "disabled-provision",
   "metadata": {},
   "outputs": [],
   "source": [
    "DF_metadata_passed['passed_number_replicates'] = ~DF_metadata_passed.condition_name.isin(drop_conds)"
   ]
  },
  {
   "cell_type": "code",
   "execution_count": 48,
   "id": "hungry-coordination",
   "metadata": {},
   "outputs": [],
   "source": [
    "DF_metadata_passed = DF_metadata_passed[DF_metadata_passed['passed_number_replicates']]"
   ]
  },
  {
   "cell_type": "markdown",
   "id": "frozen-shoulder",
   "metadata": {},
   "source": [
    "# Remove failed samples"
   ]
  },
  {
   "cell_type": "code",
   "execution_count": 49,
   "id": "careful-belly",
   "metadata": {},
   "outputs": [],
   "source": [
    "qc_columns = ['passed_number_replicates','passed_similar_replicates']"
   ]
  },
  {
   "cell_type": "code",
   "execution_count": 50,
   "id": "derived-cheat",
   "metadata": {},
   "outputs": [],
   "source": [
    "DF_metadata_final = DF_metadata_passed[DF_metadata_passed[qc_columns].all(axis=1)]"
   ]
  },
  {
   "cell_type": "code",
   "execution_count": 51,
   "id": "musical-baghdad",
   "metadata": {},
   "outputs": [
    {
     "data": {
      "text/plain": [
       "(139, 57)"
      ]
     },
     "execution_count": 51,
     "metadata": {},
     "output_type": "execute_result"
    }
   ],
   "source": [
    "DF_metadata_final.shape"
   ]
  },
  {
   "cell_type": "code",
   "execution_count": 52,
   "id": "rural-capitol",
   "metadata": {},
   "outputs": [],
   "source": [
    "DF_log_tpm_final = DF_log_tpm[DF_metadata_final.index]"
   ]
  },
  {
   "cell_type": "markdown",
   "id": "demanding-alfred",
   "metadata": {},
   "source": [
    "# Save final datasets"
   ]
  },
  {
   "cell_type": "code",
   "execution_count": 53,
   "id": "proof-tobago",
   "metadata": {},
   "outputs": [],
   "source": [
    "#DF_log_tpm_final.to_csv(os.path.join(data_dir,'../interim/log_tpm_qc.csv'))\n",
    "#DF_metadata_final.to_csv(os.path.join(data_dir,'../interim/metadata_qc.csv'))"
   ]
  },
  {
   "cell_type": "markdown",
   "id": "separate-sphere",
   "metadata": {},
   "source": [
    "# Pie chart"
   ]
  },
  {
   "cell_type": "code",
   "execution_count": 54,
   "id": "spoken-aquarium",
   "metadata": {},
   "outputs": [],
   "source": [
    "# Creating dataset\n",
    "wedges = ['Failed FastQC', 'Too few reads mapped to CDS', 'Poor correlation with other datasets',\n",
    "        'Poor correlation between replicates', 'Passed']"
   ]
  },
  {
   "cell_type": "code",
   "execution_count": 55,
   "id": "major-median",
   "metadata": {},
   "outputs": [],
   "source": [
    "#Number that failed FastQC\n",
    "a = DF_failed_fastqc.shape[0]"
   ]
  },
  {
   "cell_type": "code",
   "execution_count": 56,
   "id": "missing-quarter",
   "metadata": {
    "scrolled": true
   },
   "outputs": [],
   "source": [
    "#Number that failed mRNA mapping\n",
    "b = DF_failed_mrna.shape[0]"
   ]
  },
  {
   "cell_type": "code",
   "execution_count": 57,
   "id": "alike-ordering",
   "metadata": {},
   "outputs": [],
   "source": [
    "#Number that failed correlation with other datasets\n",
    "c = failed_global_corr.shape[0]"
   ]
  },
  {
   "cell_type": "code",
   "execution_count": 58,
   "id": "optical-curve",
   "metadata": {},
   "outputs": [],
   "source": [
    "#Number that failed number replicates/similar replicates\n",
    "d = drop_conds.shape[0]"
   ]
  },
  {
   "cell_type": "code",
   "execution_count": 59,
   "id": "wound-airplane",
   "metadata": {
    "scrolled": true
   },
   "outputs": [],
   "source": [
    "#Number that passed\n",
    "e = DF_metadata_final.shape[0]"
   ]
  },
  {
   "cell_type": "code",
   "execution_count": 60,
   "id": "polished-rolling",
   "metadata": {},
   "outputs": [],
   "source": [
    "values = [a, b, c, d, e]"
   ]
  },
  {
   "cell_type": "code",
   "execution_count": 89,
   "id": "frank-breeding",
   "metadata": {},
   "outputs": [
    {
     "data": {
      "image/png": "[encoded data removed]",
      "text/plain": [
       "<Figure size 360x360 with 1 Axes>"
      ]
     },
     "metadata": {},
     "output_type": "display_data"
    }
   ],
   "source": [
    "# Creating plot\n",
    "cmap = plt.cm.get_cmap(\"Pastel2\")\n",
    "colors = cmap(np.arange(cmap.N))\n",
    "\n",
    "fig = plt.figure(figsize=(5,5))\n",
    "plt.pie(values, labels = values, colors=colors, startangle=90)\n",
    "\n",
    "plt.legend(labels=wedges, loc='upper center', \n",
    "           bbox_to_anchor=(0.5, -0.04), ncol=2)\n",
    "\n",
    "#plt.savefig(\"../figures/Piechart.svg\",transparent=True)"
   ]
  },
  {
   "cell_type": "code",
   "execution_count": null,
   "id": "accepted-local",
   "metadata": {},
   "outputs": [],
   "source": []
  }
 ],
 "metadata": {
  "kernelspec": {
   "display_name": "Python 3",
   "language": "python",
   "name": "python3"
  },
  "language_info": {
   "codemirror_mode": {
    "name": "ipython",
    "version": 3
   },
   "file_extension": ".py",
   "mimetype": "text/x-python",
   "name": "python",
   "nbconvert_exporter": "python",
   "pygments_lexer": "ipython3",
   "version": "3.8.8"
  }
 },
 "nbformat": 4,
 "nbformat_minor": 5
}
